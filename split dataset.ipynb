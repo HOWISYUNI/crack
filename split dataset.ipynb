{
 "cells": [
  {
   "cell_type": "code",
   "execution_count": 1,
   "metadata": {},
   "outputs": [],
   "source": [
    "from glob import glob"
   ]
  },
  {
   "cell_type": "code",
   "execution_count": 2,
   "metadata": {},
   "outputs": [
    {
     "name": "stdout",
     "output_type": "stream",
     "text": [
      "20000\n"
     ]
    }
   ],
   "source": [
    "img_list = glob('./dataset/Positive/*.jpg')\n",
    "print(len(img_list))"
   ]
  },
  {
   "cell_type": "code",
   "execution_count": 3,
   "metadata": {},
   "outputs": [
    {
     "name": "stdout",
     "output_type": "stream",
     "text": [
      "13333 3333 3334\n"
     ]
    }
   ],
   "source": [
    "from sklearn.model_selection import train_test_split\n",
    "\n",
    "train_image_list, validation_image_list = train_test_split(img_list, test_size=1/3, random_state=2000)\n",
    "validation_image_list, test_image_list = train_test_split(validation_image_list, test_size=1/2, random_state=2000)\n",
    "\n",
    "print(len(train_image_list), len(validation_image_list), len(test_image_list))"
   ]
  },
  {
   "cell_type": "code",
   "execution_count": 4,
   "metadata": {},
   "outputs": [],
   "source": [
    "with open('./dataset/train.txt', mode='w') as f:\n",
    "    f.write('\\n'.join(train_image_list) + '\\n')\n",
    "    \n",
    "with open('./dataset/test.txt', mode='w') as f:\n",
    "    f.write('\\n'.join(test_image_list) + '\\n')\n",
    "    \n",
    "with open('./dataset/validation.txt', mode='w') as f:\n",
    "    f.write('\\n'.join(validation_image_list) + '\\n')"
   ]
  },
  {
   "cell_type": "code",
   "execution_count": null,
   "metadata": {},
   "outputs": [],
   "source": []
  }
 ],
 "metadata": {
  "kernelspec": {
   "display_name": "Python 3",
   "language": "python",
   "name": "python3"
  },
  "language_info": {
   "codemirror_mode": {
    "name": "ipython",
    "version": 3
   },
   "file_extension": ".py",
   "mimetype": "text/x-python",
   "name": "python",
   "nbconvert_exporter": "python",
   "pygments_lexer": "ipython3",
   "version": "3.8.5"
  }
 },
 "nbformat": 4,
 "nbformat_minor": 4
}
