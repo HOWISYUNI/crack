{
 "cells": [
  {
   "cell_type": "code",
   "execution_count": 1,
   "id": "executive-confusion",
   "metadata": {},
   "outputs": [
    {
     "name": "stdout",
     "output_type": "stream",
     "text": [
      "{'names': ['crack'], 'nc': 1, 'train': '/home/piai/Desktop/crack/dataset/train.txt', 'val': '/home/piai/Desktop/crack/dataset/validation.txt'}\n"
     ]
    }
   ],
   "source": [
    "import yaml, os\n",
    "base = os.path.join(os.getcwd(),'dataset')\n",
    "file_path = os.path.join(base,'data.yaml')\n",
    "with open(file_path, mode='r') as f:\n",
    "    contents = yaml.safe_load(f)\n",
    "    print(contents)"
   ]
  },
  {
   "cell_type": "code",
   "execution_count": 2,
   "id": "expensive-recruitment",
   "metadata": {},
   "outputs": [
    {
     "name": "stdout",
     "output_type": "stream",
     "text": [
      "{'names': ['crack'], 'nc': 1, 'train': '/home/piai/Desktop/crack/dataset/train.txt', 'val': '/home/piai/Desktop/crack/dataset/validation.txt', 'test': '/home/piai/Desktop/crack/dataset/test.txt'}\n"
     ]
    }
   ],
   "source": [
    "contents['train'] = os.path.join(base, 'train.txt')\n",
    "contents['val'] = os.path.join(base, 'validation.txt')\n",
    "contents['test'] = os.path.join(base, 'test.txt')\n",
    "print(contents)"
   ]
  },
  {
   "cell_type": "code",
   "execution_count": 3,
   "id": "straight-transparency",
   "metadata": {},
   "outputs": [],
   "source": [
    "with open(file_path, mode='w') as f:\n",
    "    yaml.dump(contents, f)"
   ]
  },
  {
   "cell_type": "code",
   "execution_count": null,
   "id": "hundred-proceeding",
   "metadata": {},
   "outputs": [],
   "source": []
  }
 ],
 "metadata": {
  "kernelspec": {
   "display_name": "Python 3",
   "language": "python",
   "name": "python3"
  },
  "language_info": {
   "codemirror_mode": {
    "name": "ipython",
    "version": 3
   },
   "file_extension": ".py",
   "mimetype": "text/x-python",
   "name": "python",
   "nbconvert_exporter": "python",
   "pygments_lexer": "ipython3",
   "version": "3.8.5"
  }
 },
 "nbformat": 4,
 "nbformat_minor": 5
}
