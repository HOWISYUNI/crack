{
 "cells": [
  {
   "cell_type": "code",
   "execution_count": 2,
   "id": "streaming-questionnaire",
   "metadata": {},
   "outputs": [],
   "source": [
    "from IPython.display import Image\n",
    "from glob import glob\n",
    "import os"
   ]
  },
  {
   "cell_type": "code",
   "execution_count": 16,
   "id": "stopped-experiment",
   "metadata": {},
   "outputs": [
    {
     "name": "stdout",
     "output_type": "stream",
     "text": [
      "/home/piai/Desktop/crack\n"
     ]
    }
   ],
   "source": [
    "cd .."
   ]
  },
  {
   "cell_type": "code",
   "execution_count": 17,
   "id": "billion-geography",
   "metadata": {},
   "outputs": [],
   "source": [
    "image_path = os.path.join(os.getcwd(), 'dataset', 'images','*.jpg')\n",
    "image_file_list = glob(image_path)"
   ]
  },
  {
   "cell_type": "code",
   "execution_count": 19,
   "id": "traditional-elimination",
   "metadata": {
    "scrolled": true
   },
   "outputs": [
    {
     "name": "stdout",
     "output_type": "stream",
     "text": [
      "/home/piai/Desktop/crack/yolov5\n"
     ]
    }
   ],
   "source": [
    "cd yolov5"
   ]
  },
  {
   "cell_type": "code",
   "execution_count": null,
   "id": "primary-novelty",
   "metadata": {},
   "outputs": [],
   "source": [
    "image_file_list.sort()"
   ]
  },
  {
   "cell_type": "code",
   "execution_count": 29,
   "id": "allied-mortgage",
   "metadata": {
    "scrolled": true
   },
   "outputs": [
    {
     "name": "stdout",
     "output_type": "stream",
     "text": [
      "Namespace(agnostic_nms=False, augment=False, classes=None, conf_thres=0.5, device='', exist_ok=False, img_size=416, iou_thres=0.45, name='exp', project='runs/detect', save_conf=False, save_txt=False, source='/home/piai/Desktop/crack/dataset/images/01043.jpg', update=False, view_img=False, weights=['/home/piai/Desktop/crack/yolov5/runs/train/crack_yolov5s_test_results/weights/best.pt'])\n",
      "YOLOv5 v4.0-83-gd2e754b torch 1.7.1 CUDA:0 (GeForce GTX 1080 Ti, 11170.0625MB)\n",
      "                                    CUDA:1 (GeForce GTX 1080 Ti, 11178.5MB)\n",
      "\n",
      "Fusing layers... \n",
      "Model Summary: 224 layers, 7053910 parameters, 0 gradients, 16.3 GFLOPS\n",
      "image 1/1 /home/piai/Desktop/crack/dataset/images/01043.jpg: 416x416 1 crack, Done. (0.012s)\n",
      "Results saved to runs/detect/exp6\n",
      "Done. (0.017s)\n"
     ]
    }
   ],
   "source": [
    "test_image = image_file_list[1042]\n",
    "\n",
    "!python detect.py --weights '/home/piai/Desktop/crack/yolov5/runs/train/crack_yolov5s_test_results/weights/best.pt' --img 416 --conf 0.5 --source \"{test_image}\""
   ]
  },
  {
   "cell_type": "code",
   "execution_count": 23,
   "id": "faced-penny",
   "metadata": {},
   "outputs": [],
   "source": []
  },
  {
   "cell_type": "code",
   "execution_count": null,
   "id": "swiss-evaluation",
   "metadata": {},
   "outputs": [],
   "source": []
  }
 ],
 "metadata": {
  "kernelspec": {
   "display_name": "Python 3",
   "language": "python",
   "name": "python3"
  },
  "language_info": {
   "codemirror_mode": {
    "name": "ipython",
    "version": 3
   },
   "file_extension": ".py",
   "mimetype": "text/x-python",
   "name": "python",
   "nbconvert_exporter": "python",
   "pygments_lexer": "ipython3",
   "version": "3.8.5"
  }
 },
 "nbformat": 4,
 "nbformat_minor": 5
}
