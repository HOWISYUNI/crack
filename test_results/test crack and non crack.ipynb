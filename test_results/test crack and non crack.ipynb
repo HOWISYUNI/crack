{
 "cells": [
  {
   "cell_type": "markdown",
   "metadata": {},
   "source": [
    "# crack 이미지로만 학습된 모델의 분류 성능 확인\n",
    "* 엄밀히 말하면 분류는 아니지만, 일종의 성능테스트로 사용한다.\n",
    "* 오분류의 정의는 crack 사진에서 crack을 찾지 못하거나, noncrack사진에서 crack을 찾는 경우다.\n",
    "* 오분류한 대상의 비율을 확인함으로써, yolov5 detector의 대략적 성능을 확인한다."
   ]
  },
  {
   "cell_type": "code",
   "execution_count": 24,
   "metadata": {},
   "outputs": [],
   "source": [
    "import os\n",
    "from glob import glob\n",
    "\n",
    "\n",
    "def get_detections(detect_result_dir, all):\n",
    "    BASE = os.path.dirname(os.getcwd())\n",
    "    DETECT_BASE = os.path.join(BASE,'yolov5','runs','detect')\n",
    "    \n",
    "    if all: # detect 된것, 안된것 다 이미지경로로 리턴\n",
    "        return glob(os.path.join(DETECT_BASE, detect_result_dir, '*.jpg'))\n",
    "    else:  # detect된 사진 이름만 리턴\n",
    "        detections = glob(os.path.join(DETECT_BASE, detect_result_dir, 'labels', '*.txt'))\n",
    "        return list(map(lambda x:os.path.basename(x).split('.')[0],detections)) \n",
    "\n",
    "def get_raw_images(category):\n",
    "    BASE = os.path.dirname(os.getcwd())\n",
    "    TEST_IMAGE_BASE = os.path.join(BASE, 'dataset', 'test_images', category)\n",
    "    \n",
    "    return glob(os.path.join(TEST_IMAGE_BASE, '*.jpg')) # 이미지 경로를 리턴\n",
    "\n",
    "    \n",
    "def mispredictions(detection_result_dirname, target='crack'):\n",
    "    \n",
    "    crack_test_all = get_raw_images(category='crack')\n",
    "    noncrack_bbox_all = get_detections(detect_result_dir=detection_result_dirname, all=True)\n",
    "    \n",
    "    if target == 'crack':\n",
    "        # crack일 때 detection 못한다면 detection 하지 못한 raw 이미지 경로 리스트를 리턴\n",
    "        \n",
    "        # detect 한 이미지 파일 이름 가져옴\n",
    "        crack_detections = get_detections(detect_result_dir=detection_result_dirname, all=False)\n",
    "        \n",
    "        # 전체 테스트 이미지 중 detect한 이미지를 제외한 나머지 이미지 파일 이름 구함\n",
    "        crack_not_detected = []\n",
    "        for file in crack_test_all:\n",
    "            file_name = os.path.basename(file).split('.')[0]\n",
    "            if file_name not in crack_detected:\n",
    "                crack_not_detected.append(file)\n",
    "        \n",
    "        # detection 실패한 raw 이미지 경로 리스트 리턴\n",
    "        return crack_not_detected\n",
    "        \n",
    "        \n",
    "    elif target == 'noncrack':\n",
    "        # non crack일 때 detection 한 bbox 포함 이미지 경로 리스트를 리턴\n",
    "        \n",
    "        # detect 성공한 이미지 파일 이름 가져옴\n",
    "        noncrack_detections = get_detections(detect_result_dir=detection_result_dirname, all=False)\n",
    "        \n",
    "        # non crack의 전체 bbox 이미지 중 detect 성공 이미지 리스트에 없으면 제거\n",
    "        noncrack_bbox = []\n",
    "        \n",
    "        for file in noncrack_bbox_all:\n",
    "            file_name = os.path.basename(file).split('.')[0]\n",
    "            if file_name in noncrack_detections:\n",
    "                noncrack_bbox.append(file)\n",
    "        \n",
    "        # detection 해버린 non crack bbox 이미지 경로 리스트 리턴\n",
    "        return noncrack_bbox\n",
    "        "
   ]
  },
  {
   "cell_type": "code",
   "execution_count": 66,
   "metadata": {},
   "outputs": [],
   "source": [
    "import numpy as np\n",
    "import pandas as pd\n",
    "import seaborn as sns\n",
    "import matplotlib.pyplot as plt\n",
    "\n",
    "def draw_confusion(TP, TN, FP, FN):\n",
    "    LABELS = ['CRACK','NONCRACK']\n",
    "    \n",
    "    array = np.array([[TP, FN],[FP, TN]])\n",
    "    \n",
    "    total, _ = array.sum(axis=1)\n",
    "    array = array/total  # NORMALIZED\n",
    "    \n",
    "    df = pd.DataFrame(array, columns=LABELS, index=LABELS)\n",
    "    \n",
    "    plt.figure(figsize=(10,7))\n",
    "    plt.title('confusion matrix', fontsize=20)\n",
    "    sns.heatmap(df, annot=True, cmap=\"YlGnBu\")\n",
    "\n",
    "    # xlabe을 heatmap 그리기 전에 선언하면 안먹는다;;\n",
    "    plt.xlabel('Prediction', fontsize=20)\n",
    "    plt.ylabel('Ground Truth', fontsize=20)\n",
    "    plt.show()\n"
   ]
  },
  {
   "cell_type": "code",
   "execution_count": 60,
   "metadata": {},
   "outputs": [],
   "source": [
    "from shutil import copyfile\n",
    "\n",
    "def save_misimages(sources, destination, category='crack'):\n",
    "    BASE = os.getcwd()\n",
    "    parent = os.path.join(BASE, destination)\n",
    "    child = os.path.join(parent, category)\n",
    "    \n",
    "    # 상위 폴더 \n",
    "    if not os.path.exists(parent):\n",
    "        os.mkdir(parent)\n",
    "        \n",
    "    # 하위폴더\n",
    "    if not os.path.exists(child):\n",
    "        os.mkdir(child)\n",
    "    \n",
    "    for src in sources:\n",
    "        file_name = os.path.basename(src).split('.')[0]\n",
    "        copyfile(src, os.path.join(child, file_name+'.jpg'))"
   ]
  },
  {
   "cell_type": "markdown",
   "metadata": {},
   "source": [
    "# confidence threshold : 25%"
   ]
  },
  {
   "cell_type": "markdown",
   "metadata": {},
   "source": [
    "## non crack 중에서 detected"
   ]
  },
  {
   "cell_type": "code",
   "execution_count": 76,
   "metadata": {},
   "outputs": [],
   "source": [
    "noncrack_mis = mispredictions(detection_result_dirname='noncrack_25', target='noncrack')"
   ]
  },
  {
   "cell_type": "code",
   "execution_count": 77,
   "metadata": {},
   "outputs": [
    {
     "data": {
      "text/plain": [
       "147"
      ]
     },
     "execution_count": 77,
     "metadata": {},
     "output_type": "execute_result"
    }
   ],
   "source": [
    "len(noncrack_mis)"
   ]
  },
  {
   "cell_type": "markdown",
   "metadata": {},
   "source": [
    "## crack 중에서 not detected"
   ]
  },
  {
   "cell_type": "code",
   "execution_count": 78,
   "metadata": {},
   "outputs": [],
   "source": [
    "crack_mis = mispredictions(detection_result_dirname='crack_25', target='crack')"
   ]
  },
  {
   "cell_type": "code",
   "execution_count": 79,
   "metadata": {},
   "outputs": [
    {
     "data": {
      "text/plain": [
       "['/home/piai/Desktop/crack/dataset/test_images/crack/09419.jpg',\n",
       " '/home/piai/Desktop/crack/dataset/test_images/crack/19211_1.jpg',\n",
       " '/home/piai/Desktop/crack/dataset/test_images/crack/13825_1.jpg',\n",
       " '/home/piai/Desktop/crack/dataset/test_images/crack/11250_1.jpg',\n",
       " '/home/piai/Desktop/crack/dataset/test_images/crack/11044_1.jpg',\n",
       " '/home/piai/Desktop/crack/dataset/test_images/crack/09721.jpg']"
      ]
     },
     "execution_count": 79,
     "metadata": {},
     "output_type": "execute_result"
    }
   ],
   "source": [
    "crack_mis"
   ]
  },
  {
   "cell_type": "markdown",
   "metadata": {},
   "source": [
    "### non crack 중 detected 는 bbox image를 저장"
   ]
  },
  {
   "cell_type": "code",
   "execution_count": 80,
   "metadata": {
    "scrolled": true
   },
   "outputs": [],
   "source": [
    "save_misimages(sources=crack_mis, destination='25', category='crack')"
   ]
  },
  {
   "cell_type": "code",
   "execution_count": 81,
   "metadata": {},
   "outputs": [],
   "source": [
    "save_misimages(sources=noncrack_mis, destination='25', category='noncrack')"
   ]
  },
  {
   "cell_type": "markdown",
   "metadata": {},
   "source": [
    "# 결과 confusion matrix"
   ]
  },
  {
   "cell_type": "code",
   "execution_count": 67,
   "metadata": {},
   "outputs": [
    {
     "data": {
      "image/png": "[encoded data removed]",
      "text/plain": [
       "<Figure size 720x504 with 2 Axes>"
      ]
     },
     "metadata": {
      "needs_background": "light"
     },
     "output_type": "display_data"
    }
   ],
   "source": [
    "TOTAL = len(get_raw_images(category='crack'))\n",
    "\n",
    "FP = len(crack_mis)\n",
    "FN = len(noncrack_mis)\n",
    "TP = TOTAL - FN\n",
    "TN = TOTAL - FP\n",
    "\n",
    "draw_confusion(TP, TN, FP, FN)"
   ]
  },
  {
   "cell_type": "markdown",
   "metadata": {},
   "source": [
    "# confidence threshold : 75"
   ]
  },
  {
   "cell_type": "markdown",
   "metadata": {},
   "source": [
    "## detection 결과 확인\n",
    "* confidence 25 일 때에 비해 crack mis는 그대로인 반면(mis 이미지도 그대로) noncrack miss가 큰 폭으로 줄었다(147 -> 2)"
   ]
  },
  {
   "cell_type": "code",
   "execution_count": 82,
   "metadata": {},
   "outputs": [],
   "source": [
    "noncrack_mis = mispredictions(detection_result_dirname='noncrack_75', target='noncrack')\n",
    "crack_mis = mispredictions(detection_result_dirname='crack_75', target='crack')"
   ]
  },
  {
   "cell_type": "code",
   "execution_count": 83,
   "metadata": {},
   "outputs": [
    {
     "data": {
      "text/plain": [
       "['/home/piai/Desktop/crack/yolov5/runs/detect/noncrack_75/13694.jpg',\n",
       " '/home/piai/Desktop/crack/yolov5/runs/detect/noncrack_75/07718.jpg']"
      ]
     },
     "execution_count": 83,
     "metadata": {},
     "output_type": "execute_result"
    }
   ],
   "source": [
    "noncrack_mis"
   ]
  },
  {
   "cell_type": "code",
   "execution_count": 84,
   "metadata": {
    "scrolled": true
   },
   "outputs": [
    {
     "data": {
      "text/plain": [
       "['/home/piai/Desktop/crack/dataset/test_images/crack/09419.jpg',\n",
       " '/home/piai/Desktop/crack/dataset/test_images/crack/19211_1.jpg',\n",
       " '/home/piai/Desktop/crack/dataset/test_images/crack/13825_1.jpg',\n",
       " '/home/piai/Desktop/crack/dataset/test_images/crack/11250_1.jpg',\n",
       " '/home/piai/Desktop/crack/dataset/test_images/crack/11044_1.jpg',\n",
       " '/home/piai/Desktop/crack/dataset/test_images/crack/09721.jpg']"
      ]
     },
     "execution_count": 84,
     "metadata": {},
     "output_type": "execute_result"
    }
   ],
   "source": [
    "crack_mis"
   ]
  },
  {
   "cell_type": "markdown",
   "metadata": {},
   "source": [
    "## 결과 이미지 저장"
   ]
  },
  {
   "cell_type": "code",
   "execution_count": 85,
   "metadata": {},
   "outputs": [],
   "source": [
    "save_misimages(sources=crack_mis, destination='75', category='crack')\n",
    "save_misimages(sources=noncrack_mis, destination='75', category='noncrack')"
   ]
  },
  {
   "cell_type": "markdown",
   "metadata": {},
   "source": [
    "## confusion matrix"
   ]
  },
  {
   "cell_type": "code",
   "execution_count": 86,
   "metadata": {},
   "outputs": [
    {
     "data": {
      "image/png": "[encoded data removed]",
      "text/plain": [
       "<Figure size 720x504 with 2 Axes>"
      ]
     },
     "metadata": {
      "needs_background": "light"
     },
     "output_type": "display_data"
    }
   ],
   "source": [
    "TOTAL = len(get_raw_images(category='crack'))\n",
    "\n",
    "FP = len(crack_mis)\n",
    "FN = len(noncrack_mis)\n",
    "TP = TOTAL - FN\n",
    "TN = TOTAL - FP\n",
    "\n",
    "draw_confusion(TP, TN, FP, FN)"
   ]
  },
  {
   "cell_type": "code",
   "execution_count": null,
   "metadata": {},
   "outputs": [],
   "source": []
  }
 ],
 "metadata": {
  "kernelspec": {
   "display_name": "Python 3",
   "language": "python",
   "name": "python3"
  },
  "language_info": {
   "codemirror_mode": {
    "name": "ipython",
    "version": 3
   },
   "file_extension": ".py",
   "mimetype": "text/x-python",
   "name": "python",
   "nbconvert_exporter": "python",
   "pygments_lexer": "ipython3",
   "version": "3.8.5"
  }
 },
 "nbformat": 4,
 "nbformat_minor": 4
}
